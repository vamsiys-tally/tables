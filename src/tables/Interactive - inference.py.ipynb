{
 "cells": [
  {
   "cell_type": "markdown",
   "metadata": {},
   "source": [
    "Connected to env (Python 3.11.13)"
   ]
  },
  {
   "cell_type": "code",
   "execution_count": null,
   "id": "4893a99b-fa16-42fd-a5be-5942422d532d",
   "metadata": {},
   "outputs": [],
   "source": [
    "import pdfplumber as plumber\n",
    "import pandas as pd\n",
    "import numpy as np\n",
    "import os\n",
    "\n",
    "from sklearn.cluster import DBSCAN"
   ]
  },
  {
   "cell_type": "code",
   "execution_count": null,
   "id": "02c7b2c5-4c4e-4df9-b282-5fa4749948e6",
   "metadata": {},
   "outputs": [],
   "source": [
    "class Cell:\n",
    "    def __init__(self, x0, y0, x1, y1):\n",
    "        self.x0 = x0\n",
    "        self.y0 = y0\n",
    "        self.x1 = x1\n",
    "        self.y1 = y1\n",
    "\n",
    "        self.height = abs(self.y1 - self.y0)\n",
    "        self.width = abs(self.x1 - self.x0)\n",
    "\n",
    "        self.top = None\n",
    "        self.bottom = None\n",
    "        self.left = None\n",
    "        self.right = None\n",
    "\n",
    "        self.text = \"\"\n",
    "\n",
    "    def __repr__(self):\n",
    "        return f\"Cell(({self.x0}, {self.y0})-({self.x1}, {self.y1}))\""
   ]
  },
  {
   "cell_type": "code",
   "execution_count": null,
   "id": "373deb3a-992d-403d-8f29-326a2927bf06",
   "metadata": {},
   "outputs": [],
   "source": [
    "\n",
    "class Page:\n",
    "    def __init__(self, page) -> None:\n",
    "        self.page = page\n",
    "\n",
    "        self.page_number = self.page.page_number\n",
    "        self.height = self.page.height\n",
    "        self.width = self.page.width\n",
    "\n",
    "        self.row_grid = Page._generate_grid(self.height)\n",
    "        self.column_grid = Page._generate_grid(self.width)\n",
    "\n",
    "        self.chars = pd.DataFrame()\n",
    "        self.lines = pd.DataFrame()\n",
    "        self.edges = pd.DataFrame()\n",
    "        self.rects = pd.DataFrame()\n",
    "\n",
    "    def __repr__(self) -> str:\n",
    "        return f\"Page({self.page_number}, {self.height}x{self.width})\"\n",
    "\n",
    "    def get_page_characters(self):\n",
    "        if self.chars.empty:\n",
    "            chars = self.page.chars\n",
    "\n",
    "            char_df = Page._attribute_df(\n",
    "                chars,\n",
    "                mandatory=[\"text\", \"x0\", \"y0\", \"x1\", \"y1\"],\n",
    "                selection=[\"size\", \"width\", \"height\"],\n",
    "            )\n",
    "\n",
    "            for col in [\"x0\", \"y0\", \"x1\", \"y1\"]:\n",
    "                char_df[col] = char_df[col].apply(\n",
    "                    lambda x: Page._snap_to_grid(\n",
    "                        x, self.column_grid if col in [\"x0\", \"x1\"] else self.row_grid\n",
    "                    )\n",
    "                )\n",
    "\n",
    "            self.chars = char_df.drop_duplicates().reset_index(drop=True)\n",
    "\n",
    "        return self.chars\n",
    "\n",
    "    def get_page_lines(self):\n",
    "        if self.lines.empty:\n",
    "            lines = self.page.lines\n",
    "\n",
    "            lines_df = Page._attribute_df(\n",
    "                lines,\n",
    "                mandatory=[\"x0\", \"y0\", \"x1\", \"y1\"],\n",
    "                selection=[\"orientation\"],\n",
    "            )\n",
    "\n",
    "            lines_df[\"orientation\"] = lines_df.apply(\n",
    "                lambda row: Page._detect_orientation(\n",
    "                    row[\"x0\"], row[\"y0\"], row[\"x1\"], row[\"y1\"]\n",
    "                ),\n",
    "                axis=1,\n",
    "            )\n",
    "\n",
    "            for col in [\"x0\", \"y0\", \"x1\", \"y1\"]:\n",
    "                lines_df[col] = lines_df[col].apply(\n",
    "                    lambda x: Page._snap_to_grid(\n",
    "                        x, self.column_grid if col in [\"x0\", \"x1\"] else self.row_grid\n",
    "                    )\n",
    "                )\n",
    "\n",
    "            self.lines = lines_df.drop_duplicates().reset_index(drop=True)\n",
    "\n",
    "        return self.lines\n",
    "\n",
    "    def get_page_edges(self, tol: float = 2.0):\n",
    "        if self.edges.empty:\n",
    "            edges = self.page.edges\n",
    "\n",
    "            edges_df = Page._attribute_df(\n",
    "                edges,\n",
    "                mandatory=[\"x0\", \"y0\", \"x1\", \"y1\"],\n",
    "                selection=[\"orientation\"],\n",
    "            )\n",
    "\n",
    "            edges_df[\"orientation\"] = edges_df.apply(\n",
    "                lambda row: Page._detect_orientation(\n",
    "                    row[\"x0\"], row[\"y0\"], row[\"x1\"], row[\"y1\"]\n",
    "                ),\n",
    "                axis=1,\n",
    "            )\n",
    "\n",
    "            coordinate_groups = [[\"x0\", \"y0\"], [\"x1\", \"y1\"]]\n",
    "\n",
    "            for orientation in [\"horizontal\", \"vertical\"]:\n",
    "                subset = edges_df[edges_df[\"orientation\"] == orientation].copy()\n",
    "                indices = list(subset.index)\n",
    "\n",
    "                if not subset.empty:\n",
    "                    for group in coordinate_groups:\n",
    "                        points = np.vstack((subset[group].values))\n",
    "\n",
    "                        clustered = Page._cluster_points(\n",
    "                            points,\n",
    "                            self.column_grid,\n",
    "                            self.row_grid,\n",
    "                            tol=tol,\n",
    "                            original_indices=indices,\n",
    "                        )\n",
    "\n",
    "                        for col in clustered.columns:\n",
    "                            subset_col = group[0] if col == \"x\" else group[1]\n",
    "                            subset.loc[indices, subset_col] = clustered[col].values\n",
    "\n",
    "                edges_df.loc[indices, group] = subset[group].values\n",
    "\n",
    "            # for col in [\"x0\", \"y0\", \"x1\", \"y1\"]:\n",
    "            #     edges_df[col] = edges_df[col].apply(\n",
    "            #         lambda x: Page._snap_to_grid(\n",
    "            #             x, self.column_grid if col in [\"x0\", \"x1\"] else self.row_grid\n",
    "            #         )\n",
    "            #     )\n",
    "\n",
    "            self.edges = edges_df.drop_duplicates().reset_index(drop=True)\n",
    "\n",
    "        return self.edges\n",
    "\n",
    "    def get_page_rects(self):\n",
    "        if self.rects.empty:\n",
    "            rects = self.page.rects\n",
    "\n",
    "            rects_df = Page._attribute_df(\n",
    "                rects,\n",
    "                mandatory=[\"x0\", \"y0\", \"x1\", \"y1\"],\n",
    "                selection=[],\n",
    "            )\n",
    "\n",
    "            for col in [\"x0\", \"y0\", \"x1\", \"y1\"]:\n",
    "                rects_df[col] = rects_df[col].apply(\n",
    "                    lambda x: Page._snap_to_grid(\n",
    "                        x, self.column_grid if col in [\"x0\", \"x1\"] else self.row_grid\n",
    "                    )\n",
    "                )\n",
    "\n",
    "            self.rects = rects_df.drop_duplicates().reset_index(drop=True)\n",
    "\n",
    "        return self.rects\n",
    "\n",
    "    @staticmethod\n",
    "    def _generate_grid(dimension, resolution=1):\n",
    "        return [g for g in range(0, int(dimension), resolution)]\n",
    "\n",
    "    @staticmethod\n",
    "    def _snap_to_grid(val, grid):\n",
    "        return max([g for g in grid if g <= val], default=val)\n",
    "\n",
    "    @staticmethod\n",
    "    def _detect_orientation(x0, y0, x1, y1, tol=0.0):\n",
    "        if np.isclose(x0, x1, atol=tol):\n",
    "            return \"vertical\"\n",
    "        elif np.isclose(y0, y1, atol=tol):\n",
    "            return \"horizontal\"\n",
    "        else:\n",
    "            return \"other\"\n",
    "\n",
    "    @staticmethod\n",
    "    def _attribute_df(\n",
    "        list_dict: list[dict], mandatory: list[str], selection: list[str]\n",
    "    ) -> pd.DataFrame:\n",
    "        \"\"\"\n",
    "        Create a DataFrame from a list of dictionaries, ensuring mandatory columns are present.\n",
    "        \"\"\"\n",
    "\n",
    "        if not list_dict:\n",
    "            # Return empty DataFrame with all mandatory + selection columns as placeholders\n",
    "            columns = mandatory + selection\n",
    "            df = pd.DataFrame(columns=columns)\n",
    "            # Fill selection columns with NaN explicitly (optional here as empty)\n",
    "            for col in selection:\n",
    "                df[col] = np.nan\n",
    "            return df\n",
    "\n",
    "        df = pd.DataFrame(list_dict)\n",
    "\n",
    "        for col in mandatory:\n",
    "            if col not in df.columns:\n",
    "                raise ValueError(f\"Mandatory column '{col}' missing in data.\")\n",
    "\n",
    "        for col in selection:\n",
    "            if col not in df.columns:\n",
    "                df[col] = np.nan\n",
    "\n",
    "        final = mandatory + selection\n",
    "\n",
    "        return df[final]\n",
    "\n",
    "    @staticmethod\n",
    "    def _cluster_points(\n",
    "        coords_array: np.ndarray,\n",
    "        column_grid: list[int],\n",
    "        row_grid: list[int],\n",
    "        tol: float = 3.0,\n",
    "        original_indices: list = None,\n",
    "    ):\n",
    "        \"\"\"\n",
    "        Cluster points in a 2D space using DBSCAN.\n",
    "        \"\"\"\n",
    "        db = DBSCAN(\n",
    "            eps=tol, min_samples=1, metric=\"euclidean\", algorithm=\"kd_tree\"\n",
    "        ).fit(coords_array)\n",
    "        labels = db.labels_\n",
    "\n",
    "        point_df = pd.DataFrame(coords_array, columns=[\"x\", \"y\"])\n",
    "        point_df[\"cluster\"] = labels\n",
    "        centroids = point_df.groupby(\"cluster\")[[\"x\", \"y\"]].mean()\n",
    "\n",
    "        mapped_points = np.array([centroids.loc[label].values for label in labels])\n",
    "\n",
    "        df = pd.DataFrame(mapped_points, columns=[\"x\", \"y\"])\n",
    "\n",
    "        for col in [\"x\", \"y\"]:\n",
    "            df[col] = df[col].apply(\n",
    "                lambda x: Page._snap_to_grid(x, column_grid if col == \"x\" else row_grid)\n",
    "            )\n",
    "\n",
    "        if original_indices is not None:\n",
    "            df.index = original_indices\n",
    "\n",
    "        return df\n",
    "\n"
   ]
  },
  {
   "cell_type": "code",
   "execution_count": null,
   "id": "7d432c21-bde0-4ace-846f-93d0653425d3",
   "metadata": {},
   "outputs": [],
   "source": [
    "class Document:\n",
    "    def __init__(self, path: str) -> None:\n",
    "        self.path = path\n",
    "        self.pdf = plumber.open(\n",
    "            path\n",
    "        )  # TODO: Change to an encapsulated function that handles PWD protection\n",
    "\n",
    "        self.pages = []\n",
    "        self._initialise_pages()\n",
    "\n",
    "    def _initialise_pages(self):\n",
    "        for page in self.pdf.pages:\n",
    "            self.pages.append(Page(page))"
   ]
  },
  {
   "cell_type": "code",
   "execution_count": null,
   "metadata": {},
   "outputs": [],
   "source": [
    "\n",
    "path = \"../../tests/data/\"\n",
    "file = \"DEOGIRI NAGARI SAHAKARI BANK LTD.pdf\"\n",
    "\n",
    "doc = Document(os.path.join(path, file))\n",
    "page = doc.pages[0]"
   ]
  },
  {
   "cell_type": "code",
   "execution_count": null,
   "metadata": {},
   "outputs": [],
   "source": [
    "edge_df = page.get_page_edges()"
   ]
  },
  {
   "cell_type": "code",
   "execution_count": null,
   "id": "af242616",
   "metadata": {},
   "outputs": [],
   "source": [
    "def pdf_to_array_coords(x, y, height):\n",
    "    # y-axis flip because PDF origin (0,0) is bottom-left\n",
    "    row = height - int(round(y))\n",
    "    col = int(round(x))\n",
    "    return row, col"
   ]
  },
  {
   "cell_type": "code",
   "execution_count": null,
   "id": "690a889b",
   "metadata": {},
   "outputs": [],
   "source": [
    "height = page.height\n",
    "width = page.width"
   ]
  },
  {
   "cell_type": "code",
   "execution_count": null,
   "metadata": {},
   "outputs": [],
   "source": [
    "\n",
    "from skimage.draw import line as skline\n",
    "import matplotlib.pyplot as plt\n",
    "\n",
    "# Create a blank canvas\n",
    "canvas = np.zeros((page.height, page.width), dtype=np.uint8)\n",
    "\n",
    "# %%\n",
    "# Draw lines on the canvas\n",
    "for _, line_obj in edge_df.iterrows():\n",
    "    x0, y0 = line_obj[\"x0\"], line_obj[\"y0\"]\n",
    "    x1, y1 = line_obj[\"x1\"], line_obj[\"y1\"]\n",
    "    r0, c0 = pdf_to_array_coords(x0, y0, height)\n",
    "    r1, c1 = pdf_to_array_coords(x1, y1, height)\n",
    "\n",
    "    # Draw line pixels on the array using skimage's line function\n",
    "    rr, cc = skline(r0, c0, r1, c1)\n",
    "    # Ensure indices are inside array bounds\n",
    "    rr = np.clip(rr, 0, height - 1)\n",
    "    cc = np.clip(cc, 0, width - 1)\n",
    "\n",
    "    # Mark line pixels as 1\n",
    "    canvas[rr, cc] = 1\n",
    "\n",
    "plt.imshow(canvas, cmap=\"gray\")\n",
    "# %%"
   ]
  },
  {
   "cell_type": "code",
   "execution_count": null,
   "id": "c697a431",
   "metadata": {},
   "outputs": [],
   "source": [
    "vert_edge_df = edge_df[edge_df[\"orientation\"] == \"vertical\"].reset_index(drop=True)\n",
    "hor_edge_df = edge_df[edge_df[\"orientation\"] == \"horizontal\"].reset_index(drop=True)"
   ]
  },
  {
   "cell_type": "code",
   "execution_count": null,
   "id": "44e5ae3c",
   "metadata": {},
   "outputs": [],
   "source": [
    "vert_edge_df.to_clipboard()"
   ]
  },
  {
   "cell_type": "code",
   "execution_count": null,
   "id": "4d2d4ce2",
   "metadata": {},
   "outputs": [],
   "source": [
    "vert_x_coords = np.concatenate([vert_edge_df[\"x0\"], vert_edge_df[\"x1\"]])\n",
    "vert_y0_coords = np.concatenate([vert_edge_df[\"y0\"]])\n",
    "vert_y1_coords = np.concatenate([vert_edge_df[\"y1\"]])\n",
    "\n",
    "vert_x_coords = np.unique(vert_x_coords)\n",
    "vert_y0_coords = np.unique(vert_y0_coords)\n",
    "vert_y1_coords = np.unique(vert_y1_coords)\n",
    "\n",
    "vert_x_coords.sort()\n",
    "vert_y0_coords.sort()\n",
    "vert_y1_coords.sort()"
   ]
  },
  {
   "cell_type": "code",
   "execution_count": null,
   "id": "8ed65f36",
   "metadata": {},
   "outputs": [],
   "source": [
    "merge_threshold = 2.0\n",
    "\n",
    "groups = []\n",
    "group = [vert_x_coords[0]]\n",
    "\n",
    "for x in vert_x_coords[1:]:\n",
    "    if np.abs(x - group[-1]) < merge_threshold:\n",
    "        group.append(x)\n",
    "    else:\n",
    "        groups.append(group)\n",
    "        group = [x]\n",
    "groups.append(group)\n",
    "\n"
   ]
  },
  {
   "cell_type": "code",
   "execution_count": null,
   "id": "26661799",
   "metadata": {},
   "outputs": [],
   "source": [
    "groups"
   ]
  },
  {
   "cell_type": "code",
   "execution_count": null,
   "id": "2adbb593",
   "metadata": {},
   "outputs": [],
   "source": [
    "group"
   ]
  },
  {
   "cell_type": "code",
   "execution_count": null,
   "id": "09fad3ba",
   "metadata": {},
   "outputs": [],
   "source": [
    "vert_x_coords"
   ]
  },
  {
   "cell_type": "code",
   "execution_count": null,
   "id": "2d469e8d",
   "metadata": {},
   "outputs": [],
   "source": [
    "cluster_map = {v: np.mean(group) for group in groups for v in group}"
   ]
  },
  {
   "cell_type": "code",
   "execution_count": null,
   "id": "2912de47",
   "metadata": {},
   "outputs": [],
   "source": [
    "for k, v in cluster_map.items():\n",
    "    cluster_map[k] = Page._snap_to_grid(v, page.column_grid)\n",
    "\n",
    "cluster_map"
   ]
  },
  {
   "cell_type": "code",
   "execution_count": null,
   "id": "3065817c",
   "metadata": {},
   "outputs": [],
   "source": [
    "edge_df"
   ]
  },
  {
   "cell_type": "code",
   "execution_count": null,
   "id": "ae09dd15",
   "metadata": {},
   "outputs": [],
   "source": [
    "edge_df"
   ]
  },
  {
   "cell_type": "code",
   "execution_count": null,
   "id": "86f7d8f3",
   "metadata": {},
   "outputs": [],
   "source": [
    "points = np.vstack((edge_df[[\"x0\", \"y0\"]].values, edge_df[[\"x1\", \"y1\"]].values))"
   ]
  },
  {
   "cell_type": "code",
   "execution_count": null,
   "id": "e3ae82ee",
   "metadata": {},
   "outputs": [],
   "source": [
    "from sklearn.cluster import DBSCAN\n",
    "\n",
    "db = DBSCAN(eps=3.0, min_samples=1).fit(points)\n",
    "labels = db.labels_"
   ]
  },
  {
   "cell_type": "code",
   "execution_count": null,
   "id": "3a5701b5",
   "metadata": {},
   "outputs": [],
   "source": [
    "db"
   ]
  },
  {
   "cell_type": "code",
   "execution_count": null,
   "id": "3acd02c1",
   "metadata": {},
   "outputs": [],
   "source": [
    "point_df = pd.DataFrame(points, columns=['x', 'y'])\n",
    "point_df['cluster'] = labels\n",
    "centroids = point_df.groupby('cluster')[['x', 'y']].mean()\n",
    "\n",
    "mapped_points = np.array([centroids.loc[label].values for label in labels])\n",
    "\n",
    "new_coords = mapped_points.reshape(2, -1, 2)\n",
    "edge_df['x0_clean'], edge_df['y0_clean'] = new_coords[0][:,0], new_coords[0][:,1]\n",
    "edge_df['x1_clean'], edge_df['y1_clean'] = new_coords[1][:,0], new_coords[1][:,1]"
   ]
  },
  {
   "cell_type": "code",
   "execution_count": null,
   "id": "f9ca8509",
   "metadata": {},
   "outputs": [],
   "source": [
    "edge_df.to_clipboard()"
   ]
  },
  {
   "cell_type": "code",
   "execution_count": null,
   "id": "cda8b390",
   "metadata": {},
   "outputs": [],
   "source": [
    "\n",
    "from skimage.draw import line as skline\n",
    "import matplotlib.pyplot as plt\n",
    "\n",
    "# Create a blank canvas\n",
    "canvas = np.zeros((page.height, page.width), dtype=np.uint8)\n",
    "\n",
    "# %%\n",
    "# Draw lines on the canvas\n",
    "for _, line_obj in edge_df.iterrows():\n",
    "    x0, y0 = line_obj[\"x0_clean\"], line_obj[\"y0_clean\"]\n",
    "    x1, y1 = line_obj[\"x1_clean\"], line_obj[\"y1_clean\"]\n",
    "    \n",
    "    r0, c0 = pdf_to_array_coords(x0, y0, height)\n",
    "    r1, c1 = pdf_to_array_coords(x1, y1, height)\n",
    "\n",
    "    # Draw line pixels on the array using skimage's line function\n",
    "    rr, cc = skline(r0, c0, r1, c1)\n",
    "    # Ensure indices are inside array bounds\n",
    "    rr = np.clip(rr, 0, height - 1)\n",
    "    cc = np.clip(cc, 0, width - 1)\n",
    "\n",
    "    # Mark line pixels as 1\n",
    "    canvas[rr, cc] = 1\n",
    "\n",
    "plt.imshow(canvas, cmap=\"gray\")\n",
    "# %%"
   ]
  },
  {
   "cell_type": "code",
   "execution_count": null,
   "id": "9b0e6781",
   "metadata": {},
   "outputs": [],
   "source": [
    "point_df\n"
   ]
  },
  {
   "cell_type": "code",
   "execution_count": null,
   "id": "c57257e1",
   "metadata": {},
   "outputs": [],
   "source": [
    "new_coords"
   ]
  },
  {
   "cell_type": "code",
   "execution_count": null,
   "id": "750a5cb6",
   "metadata": {},
   "outputs": [],
   "source": [
    "df = pd.DataFrame(columns=[\"x\", \"y\"])"
   ]
  },
  {
   "cell_type": "code",
   "execution_count": null,
   "id": "31d6683a",
   "metadata": {},
   "outputs": [],
   "source": [
    "df"
   ]
  },
  {
   "cell_type": "code",
   "execution_count": null,
   "id": "1b3c6241",
   "metadata": {},
   "outputs": [],
   "source": [
    "df['x'], df['y'] = new_coords[0][:,0], new_coords[0][:,1]"
   ]
  },
  {
   "cell_type": "code",
   "execution_count": null,
   "id": "bd578d68",
   "metadata": {},
   "outputs": [],
   "source": [
    "edge_df"
   ]
  },
  {
   "cell_type": "code",
   "execution_count": null,
   "id": "c5ddace0",
   "metadata": {},
   "outputs": [],
   "source": []
  }
 ],
 "metadata": {
  "kernelspec": {
   "display_name": "env",
   "language": "python",
   "name": "python3"
  },
  "language_info": {
   "codemirror_mode": {
    "name": "ipython",
    "version": 3
   },
   "file_extension": ".py",
   "mimetype": "text/x-python",
   "name": "python",
   "nbconvert_exporter": "python",
   "pygments_lexer": "ipython3",
   "version": "3.11.13"
  }
 },
 "nbformat": 4,
 "nbformat_minor": 5
}
